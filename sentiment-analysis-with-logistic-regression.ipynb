{
 "cells": [
  {
   "cell_type": "code",
   "execution_count": 1,
   "id": "99f38249",
   "metadata": {
    "_cell_guid": "b1076dfc-b9ad-4769-8c92-a6c4dae69d19",
    "_uuid": "8f2839f25d086af736a60e9eeb907d3b93b6e0e5",
    "execution": {
     "iopub.execute_input": "2023-02-01T18:31:39.514611Z",
     "iopub.status.busy": "2023-02-01T18:31:39.513478Z",
     "iopub.status.idle": "2023-02-01T18:31:39.531646Z",
     "shell.execute_reply": "2023-02-01T18:31:39.530646Z"
    },
    "papermill": {
     "duration": 0.027851,
     "end_time": "2023-02-01T18:31:39.534791",
     "exception": false,
     "start_time": "2023-02-01T18:31:39.506940",
     "status": "completed"
    },
    "tags": []
   },
   "outputs": [
    {
     "name": "stdout",
     "output_type": "stream",
     "text": [
      "/kaggle/input/sentiment-labelled-sentences-data-set/amazon_cells_labelled.txt\n",
      "/kaggle/input/sentiment-labelled-sentences-data-set/imdb_labelled.txt\n",
      "/kaggle/input/sentiment-labelled-sentences-data-set/yelp_labelled.txt\n"
     ]
    }
   ],
   "source": [
    "# This Python 3 environment comes with many helpful analytics libraries installed\n",
    "# It is defined by the kaggle/python Docker image: https://github.com/kaggle/docker-python\n",
    "# For example, here's several helpful packages to load\n",
    "\n",
    "import numpy as np # linear algebra\n",
    "import pandas as pd # data processing, CSV file I/O (e.g. pd.read_csv)\n",
    "\n",
    "# Input data files are available in the read-only \"../input/\" directory\n",
    "# For example, running this (by clicking run or pressing Shift+Enter) will list all files under the input directory\n",
    "\n",
    "import os\n",
    "for dirname, _, filenames in os.walk('/kaggle/input'):\n",
    "    for filename in filenames:\n",
    "        print(os.path.join(dirname, filename))\n",
    "\n",
    "# You can write up to 20GB to the current directory (/kaggle/working/) that gets preserved as output when you create a version using \"Save & Run All\" \n",
    "# You can also write temporary files to /kaggle/temp/, but they won't be saved outside of the current session"
   ]
  },
  {
   "cell_type": "code",
   "execution_count": 2,
   "id": "6e65e31c",
   "metadata": {
    "execution": {
     "iopub.execute_input": "2023-02-01T18:31:39.544652Z",
     "iopub.status.busy": "2023-02-01T18:31:39.544319Z",
     "iopub.status.idle": "2023-02-01T18:31:51.286164Z",
     "shell.execute_reply": "2023-02-01T18:31:51.285009Z"
    },
    "papermill": {
     "duration": 11.749248,
     "end_time": "2023-02-01T18:31:51.288682",
     "exception": false,
     "start_time": "2023-02-01T18:31:39.539434",
     "status": "completed"
    },
    "tags": []
   },
   "outputs": [
    {
     "name": "stdout",
     "output_type": "stream",
     "text": [
      "Collecting contractions\r\n",
      "  Downloading contractions-0.1.73-py2.py3-none-any.whl (8.7 kB)\r\n",
      "Collecting textsearch>=0.0.21\r\n",
      "  Downloading textsearch-0.0.24-py2.py3-none-any.whl (7.6 kB)\r\n",
      "Collecting pyahocorasick\r\n",
      "  Downloading pyahocorasick-2.0.0-cp37-cp37m-manylinux_2_5_x86_64.manylinux1_x86_64.whl (101 kB)\r\n",
      "\u001b[2K     \u001b[90m━━━━━━━━━━━━━━━━━━━━━━━━━━━━━━━━━━━━━━━\u001b[0m \u001b[32m101.8/101.8 kB\u001b[0m \u001b[31m1.1 MB/s\u001b[0m eta \u001b[36m0:00:00\u001b[0m\r\n",
      "\u001b[?25hCollecting anyascii\r\n",
      "  Downloading anyascii-0.3.1-py3-none-any.whl (287 kB)\r\n",
      "\u001b[2K     \u001b[90m━━━━━━━━━━━━━━━━━━━━━━━━━━━━━━━━━━━━━━━\u001b[0m \u001b[32m287.5/287.5 kB\u001b[0m \u001b[31m3.2 MB/s\u001b[0m eta \u001b[36m0:00:00\u001b[0m\r\n",
      "\u001b[?25hInstalling collected packages: pyahocorasick, anyascii, textsearch, contractions\r\n",
      "Successfully installed anyascii-0.3.1 contractions-0.1.73 pyahocorasick-2.0.0 textsearch-0.0.24\r\n",
      "\u001b[33mWARNING: Running pip as the 'root' user can result in broken permissions and conflicting behaviour with the system package manager. It is recommended to use a virtual environment instead: https://pip.pypa.io/warnings/venv\u001b[0m\u001b[33m\r\n",
      "\u001b[0m"
     ]
    }
   ],
   "source": [
    "!pip install contractions"
   ]
  },
  {
   "cell_type": "code",
   "execution_count": 3,
   "id": "c7dc1155",
   "metadata": {
    "execution": {
     "iopub.execute_input": "2023-02-01T18:31:51.299456Z",
     "iopub.status.busy": "2023-02-01T18:31:51.299122Z",
     "iopub.status.idle": "2023-02-01T18:31:53.043317Z",
     "shell.execute_reply": "2023-02-01T18:31:53.042374Z"
    },
    "papermill": {
     "duration": 1.752141,
     "end_time": "2023-02-01T18:31:53.045797",
     "exception": false,
     "start_time": "2023-02-01T18:31:51.293656",
     "status": "completed"
    },
    "tags": []
   },
   "outputs": [],
   "source": [
    "import nltk   # natural language tool kit\n",
    "import string\n",
    "import random\n",
    "import re  #RegEx can be used to check if a string contains the specified search pattern.\n",
    "import contractions\n",
    "import warnings\n",
    "warnings.filterwarnings('ignore')\n",
    "\n",
    "import matplotlib.pyplot as plt\n",
    "import seaborn as sns\n",
    "import sklearn\n",
    "from sklearn.feature_extraction import text as text_learn\n",
    "from sklearn.model_selection import train_test_split, GridSearchCV\n",
    "from sklearn.pipeline import Pipeline\n",
    "from sklearn import metrics, naive_bayes\n",
    "from sklearn import ensemble, linear_model, tree, decomposition \n",
    "from nltk.corpus import stopwords\n",
    "from nltk.tokenize import word_tokenize\n",
    "from nltk.stem import WordNetLemmatizer\n",
    "\n",
    "fig_size = plt.rcParams['figure.figsize']\n",
    "eng_stopwords = set(stopwords.words('english'))\n",
    "\n",
    "%matplotlib inline\n",
    "# Matplotlib Inline is a package that supports Matplotlib to display plots \n",
    "# directly inline and save them to notebooks."
   ]
  },
  {
   "cell_type": "markdown",
   "id": "25570f96",
   "metadata": {
    "papermill": {
     "duration": 0.004134,
     "end_time": "2023-02-01T18:31:53.054439",
     "exception": false,
     "start_time": "2023-02-01T18:31:53.050305",
     "status": "completed"
    },
    "tags": []
   },
   "source": [
    "## Preprocessing function"
   ]
  },
  {
   "cell_type": "code",
   "execution_count": 4,
   "id": "35f7d25d",
   "metadata": {
    "execution": {
     "iopub.execute_input": "2023-02-01T18:31:53.064476Z",
     "iopub.status.busy": "2023-02-01T18:31:53.064163Z",
     "iopub.status.idle": "2023-02-01T18:31:53.072150Z",
     "shell.execute_reply": "2023-02-01T18:31:53.071166Z"
    },
    "papermill": {
     "duration": 0.015487,
     "end_time": "2023-02-01T18:31:53.074218",
     "exception": false,
     "start_time": "2023-02-01T18:31:53.058731",
     "status": "completed"
    },
    "tags": []
   },
   "outputs": [],
   "source": [
    "def process(text:str):\n",
    "    # remove contractions\n",
    "    text = contractions.fix(text)\n",
    "    # remove punctuations\n",
    "    text = text.translate(str.maketrans({key:f\"{key}\"for key in string.punctuation}))\n",
    "    # removing extra spaces\n",
    "    text = text.translate(str.maketrans('','',string.punctuation))\n",
    "    # converting to lowercase\n",
    "    text = text.lower()\n",
    "    # lemmatization\n",
    "    text = text.split()\n",
    "    lemmatizer = WordNetLemmatizer()\n",
    "    lemmatized_word = [lemmatizer.lemmatize(word) for word in text]\n",
    "    text = \" \".join(lemmatized_word)\n",
    "    \n",
    "    return text"
   ]
  },
  {
   "cell_type": "markdown",
   "id": "a355b452",
   "metadata": {
    "papermill": {
     "duration": 0.004062,
     "end_time": "2023-02-01T18:31:53.082504",
     "exception": false,
     "start_time": "2023-02-01T18:31:53.078442",
     "status": "completed"
    },
    "tags": []
   },
   "source": [
    "## Loading and splitting the dataset"
   ]
  },
  {
   "cell_type": "code",
   "execution_count": 5,
   "id": "fe4bc902",
   "metadata": {
    "execution": {
     "iopub.execute_input": "2023-02-01T18:31:53.092059Z",
     "iopub.status.busy": "2023-02-01T18:31:53.091797Z",
     "iopub.status.idle": "2023-02-01T18:31:53.140070Z",
     "shell.execute_reply": "2023-02-01T18:31:53.139012Z"
    },
    "papermill": {
     "duration": 0.056115,
     "end_time": "2023-02-01T18:31:53.142873",
     "exception": false,
     "start_time": "2023-02-01T18:31:53.086758",
     "status": "completed"
    },
    "tags": []
   },
   "outputs": [
    {
     "data": {
      "text/html": [
       "<div>\n",
       "<style scoped>\n",
       "    .dataframe tbody tr th:only-of-type {\n",
       "        vertical-align: middle;\n",
       "    }\n",
       "\n",
       "    .dataframe tbody tr th {\n",
       "        vertical-align: top;\n",
       "    }\n",
       "\n",
       "    .dataframe thead th {\n",
       "        text-align: right;\n",
       "    }\n",
       "</style>\n",
       "<table border=\"1\" class=\"dataframe\">\n",
       "  <thead>\n",
       "    <tr style=\"text-align: right;\">\n",
       "      <th></th>\n",
       "      <th>Sentence</th>\n",
       "      <th>Sentiment</th>\n",
       "    </tr>\n",
       "  </thead>\n",
       "  <tbody>\n",
       "    <tr>\n",
       "      <th>0</th>\n",
       "      <td>So there is no way for me to plug it in here i...</td>\n",
       "      <td>0</td>\n",
       "    </tr>\n",
       "    <tr>\n",
       "      <th>1</th>\n",
       "      <td>Good case, Excellent value.</td>\n",
       "      <td>1</td>\n",
       "    </tr>\n",
       "    <tr>\n",
       "      <th>2</th>\n",
       "      <td>Great for the jawbone.</td>\n",
       "      <td>1</td>\n",
       "    </tr>\n",
       "    <tr>\n",
       "      <th>3</th>\n",
       "      <td>Tied to charger for conversations lasting more...</td>\n",
       "      <td>0</td>\n",
       "    </tr>\n",
       "    <tr>\n",
       "      <th>4</th>\n",
       "      <td>The mic is great.</td>\n",
       "      <td>1</td>\n",
       "    </tr>\n",
       "    <tr>\n",
       "      <th>...</th>\n",
       "      <td>...</td>\n",
       "      <td>...</td>\n",
       "    </tr>\n",
       "    <tr>\n",
       "      <th>2743</th>\n",
       "      <td>I think food should have flavor and texture an...</td>\n",
       "      <td>0</td>\n",
       "    </tr>\n",
       "    <tr>\n",
       "      <th>2744</th>\n",
       "      <td>Appetite instantly gone.</td>\n",
       "      <td>0</td>\n",
       "    </tr>\n",
       "    <tr>\n",
       "      <th>2745</th>\n",
       "      <td>Overall I was not impressed and would not go b...</td>\n",
       "      <td>0</td>\n",
       "    </tr>\n",
       "    <tr>\n",
       "      <th>2746</th>\n",
       "      <td>The whole experience was underwhelming, and I ...</td>\n",
       "      <td>0</td>\n",
       "    </tr>\n",
       "    <tr>\n",
       "      <th>2747</th>\n",
       "      <td>Then, as if I hadn't wasted enough of my life ...</td>\n",
       "      <td>0</td>\n",
       "    </tr>\n",
       "  </tbody>\n",
       "</table>\n",
       "<p>2748 rows × 2 columns</p>\n",
       "</div>"
      ],
      "text/plain": [
       "                                               Sentence  Sentiment\n",
       "0     So there is no way for me to plug it in here i...          0\n",
       "1                           Good case, Excellent value.          1\n",
       "2                                Great for the jawbone.          1\n",
       "3     Tied to charger for conversations lasting more...          0\n",
       "4                                     The mic is great.          1\n",
       "...                                                 ...        ...\n",
       "2743  I think food should have flavor and texture an...          0\n",
       "2744                           Appetite instantly gone.          0\n",
       "2745  Overall I was not impressed and would not go b...          0\n",
       "2746  The whole experience was underwhelming, and I ...          0\n",
       "2747  Then, as if I hadn't wasted enough of my life ...          0\n",
       "\n",
       "[2748 rows x 2 columns]"
      ]
     },
     "execution_count": 5,
     "metadata": {},
     "output_type": "execute_result"
    }
   ],
   "source": [
    "df_list = [pd.read_csv(os.path.join(dirname, filename), sep='\\t', header=None, names=[\"Sentence\", \"Sentiment\"]) for filename in filenames]\n",
    "df = pd.concat(df_list, ignore_index=True)\n",
    "df"
   ]
  },
  {
   "cell_type": "code",
   "execution_count": 6,
   "id": "3e907ff0",
   "metadata": {
    "execution": {
     "iopub.execute_input": "2023-02-01T18:31:53.153068Z",
     "iopub.status.busy": "2023-02-01T18:31:53.152804Z",
     "iopub.status.idle": "2023-02-01T18:31:54.994383Z",
     "shell.execute_reply": "2023-02-01T18:31:54.993376Z"
    },
    "papermill": {
     "duration": 1.849054,
     "end_time": "2023-02-01T18:31:54.996512",
     "exception": false,
     "start_time": "2023-02-01T18:31:53.147458",
     "status": "completed"
    },
    "tags": []
   },
   "outputs": [
    {
     "data": {
      "text/html": [
       "<div>\n",
       "<style scoped>\n",
       "    .dataframe tbody tr th:only-of-type {\n",
       "        vertical-align: middle;\n",
       "    }\n",
       "\n",
       "    .dataframe tbody tr th {\n",
       "        vertical-align: top;\n",
       "    }\n",
       "\n",
       "    .dataframe thead th {\n",
       "        text-align: right;\n",
       "    }\n",
       "</style>\n",
       "<table border=\"1\" class=\"dataframe\">\n",
       "  <thead>\n",
       "    <tr style=\"text-align: right;\">\n",
       "      <th></th>\n",
       "      <th>Sentence</th>\n",
       "      <th>Sentiment</th>\n",
       "      <th>processed_sentence</th>\n",
       "    </tr>\n",
       "  </thead>\n",
       "  <tbody>\n",
       "    <tr>\n",
       "      <th>0</th>\n",
       "      <td>So there is no way for me to plug it in here i...</td>\n",
       "      <td>0</td>\n",
       "      <td>so there is no way for me to plug it in here i...</td>\n",
       "    </tr>\n",
       "    <tr>\n",
       "      <th>1</th>\n",
       "      <td>Good case, Excellent value.</td>\n",
       "      <td>1</td>\n",
       "      <td>good case excellent value</td>\n",
       "    </tr>\n",
       "    <tr>\n",
       "      <th>2</th>\n",
       "      <td>Great for the jawbone.</td>\n",
       "      <td>1</td>\n",
       "      <td>great for the jawbone</td>\n",
       "    </tr>\n",
       "    <tr>\n",
       "      <th>3</th>\n",
       "      <td>Tied to charger for conversations lasting more...</td>\n",
       "      <td>0</td>\n",
       "      <td>tied to charger for conversation lasting more ...</td>\n",
       "    </tr>\n",
       "    <tr>\n",
       "      <th>4</th>\n",
       "      <td>The mic is great.</td>\n",
       "      <td>1</td>\n",
       "      <td>the mic is great</td>\n",
       "    </tr>\n",
       "    <tr>\n",
       "      <th>...</th>\n",
       "      <td>...</td>\n",
       "      <td>...</td>\n",
       "      <td>...</td>\n",
       "    </tr>\n",
       "    <tr>\n",
       "      <th>2743</th>\n",
       "      <td>I think food should have flavor and texture an...</td>\n",
       "      <td>0</td>\n",
       "      <td>i think food should have flavor and texture an...</td>\n",
       "    </tr>\n",
       "    <tr>\n",
       "      <th>2744</th>\n",
       "      <td>Appetite instantly gone.</td>\n",
       "      <td>0</td>\n",
       "      <td>appetite instantly gone</td>\n",
       "    </tr>\n",
       "    <tr>\n",
       "      <th>2745</th>\n",
       "      <td>Overall I was not impressed and would not go b...</td>\n",
       "      <td>0</td>\n",
       "      <td>overall i wa not impressed and would not go back</td>\n",
       "    </tr>\n",
       "    <tr>\n",
       "      <th>2746</th>\n",
       "      <td>The whole experience was underwhelming, and I ...</td>\n",
       "      <td>0</td>\n",
       "      <td>the whole experience wa underwhelming and i th...</td>\n",
       "    </tr>\n",
       "    <tr>\n",
       "      <th>2747</th>\n",
       "      <td>Then, as if I hadn't wasted enough of my life ...</td>\n",
       "      <td>0</td>\n",
       "      <td>then a if i had not wasted enough of my life t...</td>\n",
       "    </tr>\n",
       "  </tbody>\n",
       "</table>\n",
       "<p>2748 rows × 3 columns</p>\n",
       "</div>"
      ],
      "text/plain": [
       "                                               Sentence  Sentiment  \\\n",
       "0     So there is no way for me to plug it in here i...          0   \n",
       "1                           Good case, Excellent value.          1   \n",
       "2                                Great for the jawbone.          1   \n",
       "3     Tied to charger for conversations lasting more...          0   \n",
       "4                                     The mic is great.          1   \n",
       "...                                                 ...        ...   \n",
       "2743  I think food should have flavor and texture an...          0   \n",
       "2744                           Appetite instantly gone.          0   \n",
       "2745  Overall I was not impressed and would not go b...          0   \n",
       "2746  The whole experience was underwhelming, and I ...          0   \n",
       "2747  Then, as if I hadn't wasted enough of my life ...          0   \n",
       "\n",
       "                                     processed_sentence  \n",
       "0     so there is no way for me to plug it in here i...  \n",
       "1                             good case excellent value  \n",
       "2                                 great for the jawbone  \n",
       "3     tied to charger for conversation lasting more ...  \n",
       "4                                      the mic is great  \n",
       "...                                                 ...  \n",
       "2743  i think food should have flavor and texture an...  \n",
       "2744                            appetite instantly gone  \n",
       "2745   overall i wa not impressed and would not go back  \n",
       "2746  the whole experience wa underwhelming and i th...  \n",
       "2747  then a if i had not wasted enough of my life t...  \n",
       "\n",
       "[2748 rows x 3 columns]"
      ]
     },
     "execution_count": 6,
     "metadata": {},
     "output_type": "execute_result"
    }
   ],
   "source": [
    "df['processed_sentence'] = df.Sentence.apply(process)\n",
    "df"
   ]
  },
  {
   "cell_type": "code",
   "execution_count": 7,
   "id": "85ccccb2",
   "metadata": {
    "execution": {
     "iopub.execute_input": "2023-02-01T18:31:55.008140Z",
     "iopub.status.busy": "2023-02-01T18:31:55.007836Z",
     "iopub.status.idle": "2023-02-01T18:31:55.019713Z",
     "shell.execute_reply": "2023-02-01T18:31:55.018850Z"
    },
    "papermill": {
     "duration": 0.02027,
     "end_time": "2023-02-01T18:31:55.021878",
     "exception": false,
     "start_time": "2023-02-01T18:31:55.001608",
     "status": "completed"
    },
    "tags": []
   },
   "outputs": [],
   "source": [
    "df_train,df_val = train_test_split(df[['processed_sentence','Sentiment']],stratify=df.Sentiment,test_size=0.2) "
   ]
  },
  {
   "cell_type": "code",
   "execution_count": 8,
   "id": "4ccafd75",
   "metadata": {
    "execution": {
     "iopub.execute_input": "2023-02-01T18:31:55.033311Z",
     "iopub.status.busy": "2023-02-01T18:31:55.033006Z",
     "iopub.status.idle": "2023-02-01T18:31:55.292810Z",
     "shell.execute_reply": "2023-02-01T18:31:55.291936Z"
    },
    "papermill": {
     "duration": 0.268083,
     "end_time": "2023-02-01T18:31:55.295090",
     "exception": false,
     "start_time": "2023-02-01T18:31:55.027007",
     "status": "completed"
    },
    "tags": []
   },
   "outputs": [
    {
     "data": {
      "image/png": "[encoded data removed]",
      "text/plain": [
       "<Figure size 864x288 with 2 Axes>"
      ]
     },
     "metadata": {
      "needs_background": "light"
     },
     "output_type": "display_data"
    }
   ],
   "source": [
    "fig, ax = plt.subplots(1, 2, figsize=(fig_size[0] * 2, fig_size[1] * 1))\n",
    "_ = sns.countplot(df_train.Sentiment, ax=ax[0])\n",
    "_ = sns.countplot(df_val.Sentiment, ax=ax[1])"
   ]
  },
  {
   "cell_type": "code",
   "execution_count": 9,
   "id": "5a7d10ca",
   "metadata": {
    "execution": {
     "iopub.execute_input": "2023-02-01T18:31:55.308444Z",
     "iopub.status.busy": "2023-02-01T18:31:55.306774Z",
     "iopub.status.idle": "2023-02-01T18:31:55.314276Z",
     "shell.execute_reply": "2023-02-01T18:31:55.313403Z"
    },
    "papermill": {
     "duration": 0.015783,
     "end_time": "2023-02-01T18:31:55.316381",
     "exception": false,
     "start_time": "2023-02-01T18:31:55.300598",
     "status": "completed"
    },
    "tags": []
   },
   "outputs": [
    {
     "data": {
      "text/plain": [
       "(2198, 2)"
      ]
     },
     "execution_count": 9,
     "metadata": {},
     "output_type": "execute_result"
    }
   ],
   "source": [
    "df_train.shape"
   ]
  },
  {
   "cell_type": "markdown",
   "id": "8da9b5d7",
   "metadata": {
    "papermill": {
     "duration": 0.004922,
     "end_time": "2023-02-01T18:31:55.326306",
     "exception": false,
     "start_time": "2023-02-01T18:31:55.321384",
     "status": "completed"
    },
    "tags": []
   },
   "source": [
    "## Grid search for best parameter"
   ]
  },
  {
   "cell_type": "code",
   "execution_count": 10,
   "id": "d53d263f",
   "metadata": {
    "execution": {
     "iopub.execute_input": "2023-02-01T18:31:55.338696Z",
     "iopub.status.busy": "2023-02-01T18:31:55.337295Z",
     "iopub.status.idle": "2023-02-01T18:35:36.668092Z",
     "shell.execute_reply": "2023-02-01T18:35:36.666588Z"
    },
    "papermill": {
     "duration": 221.366207,
     "end_time": "2023-02-01T18:35:36.697521",
     "exception": false,
     "start_time": "2023-02-01T18:31:55.331314",
     "status": "completed"
    },
    "tags": []
   },
   "outputs": [
    {
     "data": {
      "text/plain": [
       "GridSearchCV(estimator=Pipeline(steps=[('tfidf', TfidfVectorizer()),\n",
       "                                       ('logistic_regression',\n",
       "                                        LogisticRegression(max_iter=250))]),\n",
       "             param_grid={'logistic_regression__C': [0.25, 0.32022167244106814,\n",
       "                                                    0.410167678003819,\n",
       "                                                    0.5253783193266097,\n",
       "                                                    0.6729500963161781,\n",
       "                                                    0.8619728212469778,\n",
       "                                                    1.1040895136738123,\n",
       "                                                    1.4142135623730951,\n",
       "                                                    1.8114473285278134,\n",
       "                                                    2.320258772320326,\n",
       "                                                    2.971988578...\n",
       "                                                    3.806780612042479,\n",
       "                                                    4.8760546168179015,\n",
       "                                                    6.245673457245682, 8.0,\n",
       "                                                    0.01, 0.022758459260747887,\n",
       "                                                    0.05179474679231213,\n",
       "                                                    0.11787686347935872,\n",
       "                                                    0.2682695795279726,\n",
       "                                                    0.6105402296585329,\n",
       "                                                    1.3894954943731375,\n",
       "                                                    3.1622776601683795,\n",
       "                                                    7.196856730011521,\n",
       "                                                    16.378937069540648,\n",
       "                                                    37.27593720314942,\n",
       "                                                    84.83428982440725,\n",
       "                                                    193.06977288832496,\n",
       "                                                    439.3970560760795, 1000.0],\n",
       "                         'tfidf__ngram_range': [(1, 1), (1, 2), (2, 2),\n",
       "                                                (1, 3)]})"
      ]
     },
     "execution_count": 10,
     "metadata": {},
     "output_type": "execute_result"
    }
   ],
   "source": [
    "# The purpose of the pipeline is to assemble several steps that can be \n",
    "# cross-validated together while setting different parameters. \n",
    "tfpipe = Pipeline([\n",
    "## TfidfVectorizer(): Convert a collection of raw documents to a matrix of TF-IDF features.\n",
    "    # tf–idf, short for term frequency–inverse document frequency, is a \n",
    "    # numerical statistic that is intended to reflect how important a word \n",
    "    # is to a document in a collection or corpus.\n",
    "    ('tfidf',text_learn.TfidfVectorizer()),\n",
    "    ('logistic_regression', linear_model.LogisticRegression(max_iter=250))\n",
    "])\n",
    "\n",
    "param_grid = {\n",
    "    #numpy.logspace() function returns number spaces evenly w.r.t interval on a log scale.\n",
    "    'logistic_regression__C': np.logspace(-2,3,base=2,num=15).tolist()+np.logspace(-2,3,base=10,num=15).tolist(),\n",
    "    'tfidf__ngram_range':[(1, 1), (1, 2), (2, 2), (1, 3)]\n",
    "}\n",
    "model_grid = GridSearchCV(tfpipe,param_grid)\n",
    "model_grid.fit(df_train.processed_sentence,df_train.Sentiment)"
   ]
  },
  {
   "cell_type": "code",
   "execution_count": 11,
   "id": "066f56cf",
   "metadata": {
    "execution": {
     "iopub.execute_input": "2023-02-01T18:35:36.743092Z",
     "iopub.status.busy": "2023-02-01T18:35:36.742745Z",
     "iopub.status.idle": "2023-02-01T18:35:36.749414Z",
     "shell.execute_reply": "2023-02-01T18:35:36.748432Z"
    },
    "papermill": {
     "duration": 0.020949,
     "end_time": "2023-02-01T18:35:36.751466",
     "exception": false,
     "start_time": "2023-02-01T18:35:36.730517",
     "status": "completed"
    },
    "tags": []
   },
   "outputs": [
    {
     "data": {
      "text/plain": [
       "{'logistic_regression__C': 193.06977288832496, 'tfidf__ngram_range': (1, 2)}"
      ]
     },
     "execution_count": 11,
     "metadata": {},
     "output_type": "execute_result"
    }
   ],
   "source": [
    "## getting the best parameters\n",
    "best_model_tf = model_grid.best_estimator_\n",
    "model_grid.best_params_"
   ]
  },
  {
   "cell_type": "markdown",
   "id": "7008592b",
   "metadata": {
    "papermill": {
     "duration": 0.005612,
     "end_time": "2023-02-01T18:35:36.762468",
     "exception": false,
     "start_time": "2023-02-01T18:35:36.756856",
     "status": "completed"
    },
    "tags": []
   },
   "source": [
    "## Predicting result and accuracy"
   ]
  },
  {
   "cell_type": "code",
   "execution_count": 12,
   "id": "fdca8439",
   "metadata": {
    "execution": {
     "iopub.execute_input": "2023-02-01T18:35:36.776098Z",
     "iopub.status.busy": "2023-02-01T18:35:36.774516Z",
     "iopub.status.idle": "2023-02-01T18:35:38.312717Z",
     "shell.execute_reply": "2023-02-01T18:35:38.311707Z"
    },
    "papermill": {
     "duration": 1.546891,
     "end_time": "2023-02-01T18:35:38.314945",
     "exception": false,
     "start_time": "2023-02-01T18:35:36.768054",
     "status": "completed"
    },
    "tags": []
   },
   "outputs": [
    {
     "name": "stdout",
     "output_type": "stream",
     "text": [
      "Accuracy: 84.73%\n",
      "Precision: 0.851\n",
      "Recall: 0.845\n",
      "F1 Score: 0.848\n",
      "AUC: 0.926\n"
     ]
    },
    {
     "data": {
      "image/png": "[encoded data removed]",
      "text/plain": [
       "<Figure size 1296x432 with 3 Axes>"
      ]
     },
     "metadata": {
      "needs_background": "light"
     },
     "output_type": "display_data"
    }
   ],
   "source": [
    "y_true = df_val.Sentiment.values\n",
    "y_pred = best_model_tf.predict(df_val.processed_sentence.values)\n",
    "y_pred_proba = best_model_tf.predict_proba(df_val.processed_sentence.values)[:, 1]\n",
    "\n",
    "# computing metrics on validation set\n",
    "## ACCURACY\n",
    "accuracy = (y_pred == y_true).sum() / df_val.shape[0]\n",
    "## CONFUSION MATRIX\n",
    "conf_matrix = metrics.confusion_matrix(y_true, y_pred)\n",
    "## PRECISION\n",
    "precision = metrics.precision_score(y_true, y_pred)\n",
    "## RECALL\n",
    "recall = metrics.recall_score(y_true, y_pred)\n",
    "## F1 SCORE\n",
    "f1_score = metrics.f1_score(y_true, y_pred)\n",
    "## ROC CURVE\n",
    "fpr, tpr, thresholds = metrics.roc_curve(y_true, y_pred_proba)\n",
    "## AUC SCORE\n",
    "auc_score = metrics.auc(fpr, tpr)\n",
    "\n",
    "print(f\"Accuracy: {accuracy * 100:.2f}%\")\n",
    "print(f\"Precision: {precision:.3f}\")\n",
    "print(f\"Recall: {recall:.3f}\")\n",
    "print(f\"F1 Score: {f1_score:.3f}\")\n",
    "print(f\"AUC: {auc_score:.3f}\")\n",
    "\n",
    "\n",
    "# visualization\n",
    "nrows = 1\n",
    "ncols = 2\n",
    "fig, ax = plt.subplots(nrows, ncols, figsize=(fig_size[0] * 1.5 * ncols, fig_size[1] * 1.5 * nrows))\n",
    "_ = sns.heatmap(conf_matrix, annot=True, fmt='d', ax=ax[0])\n",
    "_ = ax[0].set_xticklabels([\"negative\", \"positive\"], fontsize=13)\n",
    "_ = ax[0].set_yticklabels([\"negative\", \"positive\"], fontsize=13)\n",
    "_ = ax[0].set_xlabel(\"Predicted Labels\", fontsize=15)\n",
    "_ = ax[0].set_ylabel(\"Actual Labels\", fontsize=15)\n",
    "_ = sns.lineplot(fpr, tpr, ax=ax[1], label=f\"AUC: {auc_score:.3f}\")\n",
    "_ = ax[1].set_xlabel(\"False Positive Rate\", fontsize=13)\n",
    "_ = ax[1].set_ylabel(\"True Positive Rate\", fontsize=13)\n",
    "_ = plt.tight_layout()"
   ]
  },
  {
   "cell_type": "code",
   "execution_count": null,
   "id": "2627cb0d",
   "metadata": {
    "papermill": {
     "duration": 0.005723,
     "end_time": "2023-02-01T18:35:38.326764",
     "exception": false,
     "start_time": "2023-02-01T18:35:38.321041",
     "status": "completed"
    },
    "tags": []
   },
   "outputs": [],
   "source": []
  }
 ],
 "metadata": {
  "kernelspec": {
   "display_name": "Python 3",
   "language": "python",
   "name": "python3"
  },
  "language_info": {
   "codemirror_mode": {
    "name": "ipython",
    "version": 3
   },
   "file_extension": ".py",
   "mimetype": "text/x-python",
   "name": "python",
   "nbconvert_exporter": "python",
   "pygments_lexer": "ipython3",
   "version": "3.7.12"
  },
  "papermill": {
   "default_parameters": {},
   "duration": 247.959375,
   "end_time": "2023-02-01T18:35:39.254685",
   "environment_variables": {},
   "exception": null,
   "input_path": "__notebook__.ipynb",
   "output_path": "__notebook__.ipynb",
   "parameters": {},
   "start_time": "2023-02-01T18:31:31.295310",
   "version": "2.3.4"
  }
 },
 "nbformat": 4,
 "nbformat_minor": 5
}
